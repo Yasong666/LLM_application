{
 "cells": [
  {
   "cell_type": "markdown",
   "metadata": {},
   "source": [
    "## GLUE\n",
    "GLUE数据集有九个子任务，使用huggingface的evaluate库来进计算准确率。\n",
    "```python\n",
    "from datasets import load_dataset\n",
    "from transformers import AutoTokenizer, AutoModelForSequenceClassification\n",
    "from transformers import Trainer, TrainingArguments\n",
    "from transformers import pipeline\n",
    "import evaluate\n",
    "\n",
    "# 加载GLUE数据集\n",
    "dataset = load_dataset(\"glue\", \"mrpc\")\n",
    "\n",
    "# 加载预训练模型和tokenizer\n",
    "model_name = \"bert-base-uncased\"\n",
    "tokenizer = AutoTokenizer.from_pretrained(model_name)\n",
    "model = AutoModelForSequenceClassification.from_pretrained(model_name, num_labels=2)\n",
    "\n",
    "# 使用pipeline进行推理\n",
    "nlp = pipeline(\"sentiment-analysis\", model=model, tokenizer=tokenizer) \n",
    "```"
   ]
  }
 ],
 "metadata": {
  "language_info": {
   "name": "python"
  }
 },
 "nbformat": 4,
 "nbformat_minor": 2
}
